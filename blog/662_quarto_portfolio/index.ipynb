{
  "cells": [
    {
      "cell_type": "raw",
      "metadata": {},
      "source": [
        "---\n",
        "title: \"A simple visual art portfolio website using Quarto\"\n",
        "author: \"Matt Crump\"\n",
        "date: 7/13/23\n",
        "description: \"Notes on using Quarto to create a basic portfolio website for pictures using list pages.\"\n",
        "image: \"images/portfolio.jpg\"\n",
        "comments:\n",
        "  giscus: \n",
        "    repo: CrumpLab/crumplab_comments\n",
        "categories: \n",
        "  - Quarto\n",
        "  - portfolio\n",
        "  - art\n",
        "execute: \n",
        "  echo: false\n",
        "---"
      ],
      "id": "dcb0e4f8"
    },
    {
      "cell_type": "markdown",
      "metadata": {},
      "source": [
        "![](images/portfolio.jpg)\n",
        "\n",
        "I recently updated [my visual art website.](https://crumplab.com/things) It's now a very simple portfolio/gallery built using Quarto. This post is a quick run-down of what I did, with notes to my future self. The source code is on github: <https://github.com/CrumpLab/things>.\n",
        "\n",
        "## What I wanted\n",
        "\n",
        "I started with a few things I wanted to achieve:\n",
        "\n",
        "-   Really simple, clean website design that makes it easy to look at the pictures\n",
        "\n",
        "-   Flat structure, minimal clicking\n",
        "\n",
        "-   easy to update with new stuff\n",
        "\n",
        "-   Some way to tag individual pictures (e.g., different collections of series)\n",
        "\n",
        "-   Add more info to describe process behind a particular work\n",
        "\n",
        "-   Alt text (still haven't added this yet, but it's possible).\n",
        "\n",
        "## Quarto website structure\n",
        "\n",
        "\n",
        "```{markdown}\n",
        "├── README.md\n",
        "├── Things.Rproj\n",
        "├── _quarto.yml\n",
        "├── about.qmd\n",
        "├── docs\n",
        "├── images\n",
        "│   ├── Colorlands\n",
        "│   ├── Desertland\n",
        "│   ├── ...\n",
        "├── imgs\n",
        "├── index.qmd\n",
        "├── make_qmds.R\n",
        "├── styles.css\n",
        "└── things\n",
        "    ├── Colorlands\n",
        "    ├── Desertland\n",
        "    ├── ...\n",
        "```"
      ],
      "id": "f68abbc8"
    }
  ],
  "metadata": {
    "kernelspec": {
      "display_name": "Python 3",
      "language": "python",
      "name": "python3"
    }
  },
  "nbformat": 4,
  "nbformat_minor": 5
}